{
  "nbformat": 4,
  "nbformat_minor": 0,
  "metadata": {
    "colab": {
      "name": "NeuralKuvshinov.ipynb",
      "provenance": [],
      "collapsed_sections": []
    },
    "kernelspec": {
      "name": "python3",
      "display_name": "Python 3"
    }
  },
  "cells": [
    {
      "cell_type": "markdown",
      "metadata": {
        "id": "Gi4QoyzbRKn3"
      },
      "source": [
        "# Preparations"
      ]
    },
    {
      "cell_type": "markdown",
      "metadata": {
        "id": "UmLbgjKePy2I"
      },
      "source": [
        "Get a gdrive link like https://drive.google.com/file/d/12r-OuKpwVpv8ytN_JhF1sNZolVXpoVux/view?usp=sharing and get an ID **12r-OuKpwVpv8ytN_JhF1sNZolVXpoVux**"
      ]
    },
    {
      "cell_type": "code",
      "metadata": {
        "id": "f2PJ4IB0PgXC"
      },
      "source": [
        "!gdown --id 12r-OuKpwVpv8ytN_JhF1sNZolVXpoVux"
      ],
      "execution_count": null,
      "outputs": []
    },
    {
      "cell_type": "markdown",
      "metadata": {
        "id": "YWpU6p8qQXHN"
      },
      "source": [
        "Preparing"
      ]
    },
    {
      "cell_type": "code",
      "metadata": {
        "id": "FJly3KVHQGQy"
      },
      "source": [
        "%tensorflow_version 1.x\r\n",
        "import tensorflow as tf\r\n",
        "import argparse\r\n",
        "import numpy as np\r\n",
        "import PIL.Image\r\n",
        "import dnnlib\r\n",
        "import dnnlib.tflib as tflib\r\n",
        "import re\r\n",
        "import sys\r\n",
        "from io import BytesIO\r\n",
        "import IPython.display\r\n",
        "import numpy as np\r\n",
        "from math import ceil\r\n",
        "from PIL import Image, ImageDraw\r\n",
        "import imageio\r\n",
        "import os\r\n",
        "import pickle\r\n",
        "from google.colab import file\r\n",
        "\r\n",
        "# Download the code\r\n",
        "!git clone https://github.com/NVlabs/stylegan2-ada.git\r\n",
        "%cd stylegan2-ada\r\n",
        "!nvcc test_nvcc.cu -o test_nvcc -run\r\n",
        "\r\n",
        "print('Tensorflow version: {}'.format(tf.__version__) )\r\n",
        "!nvidia-smi -L\r\n",
        "print('GPU Identified at: {}'.format(tf.test.gpu_device_name()))\r\n",
        "\r\n",
        "s\r\n",
        "%cd /content/stylegan2-ada/"
      ],
      "execution_count": null,
      "outputs": []
    },
    {
      "cell_type": "markdown",
      "metadata": {
        "id": "ID75FWZZQcJR"
      },
      "source": [
        "Paste a proper filename in the network_pkl"
      ]
    },
    {
      "cell_type": "code",
      "metadata": {
        "id": "Tt3aNRkbQcVi"
      },
      "source": [
        "dnnlib.tflib.init_tf()\r\n",
        "network_pkl = '/content/kuvshinov-xxx.pkl'\r\n",
        "print('Loading networks from \"%s\"...' % network_pkl)\r\n",
        "with dnnlib.util.open_url(network_pkl) as fp:\r\n",
        "    _G, _D, Gs = pickle.load(fp)\r\n",
        "noise_vars = [var for name, var in Gs.components.synthesis.vars.items() if name.startswith('noise')]"
      ],
      "execution_count": null,
      "outputs": []
    },
    {
      "cell_type": "markdown",
      "metadata": {
        "id": "msyG-r1OQ0nC"
      },
      "source": [
        "Utility functions from unknown source"
      ]
    },
    {
      "cell_type": "code",
      "metadata": {
        "id": "nwl0rfodQ08J"
      },
      "source": [
        "#@title Useful utility functions...\r\n",
        "\r\n",
        "# Generates a list of images, based on a list of latent vectors (Z), and a list (or a single constant) of truncation_psi's.\r\n",
        "def generate_images_in_w_space(dlatents, truncation_psi):\r\n",
        "    Gs_kwargs = dnnlib.EasyDict()\r\n",
        "    Gs_kwargs.output_transform = dict(func=tflib.convert_images_to_uint8, nchw_to_nhwc=True)\r\n",
        "    Gs_kwargs.randomize_noise = False\r\n",
        "    Gs_kwargs.truncation_psi = truncation_psi\r\n",
        "    dlatent_avg = Gs.get_var('dlatent_avg') # [component]\r\n",
        "\r\n",
        "    imgs = []\r\n",
        "    for row, dlatent in log_progress(enumerate(dlatents), name = \"Generating images\"):\r\n",
        "        #row_dlatents = (dlatent[np.newaxis] - dlatent_avg) * np.reshape(truncation_psi, [-1, 1, 1]) + dlatent_avg\r\n",
        "        dl = (dlatent-dlatent_avg)*truncation_psi   + dlatent_avg\r\n",
        "        row_images = Gs.components.synthesis.run(dlatent,  **Gs_kwargs)\r\n",
        "        imgs.append(PIL.Image.fromarray(row_images[0], 'RGB'))\r\n",
        "    return imgs       \r\n",
        "\r\n",
        "def generate_images(zs, truncation_psi):\r\n",
        "    Gs_kwargs = dnnlib.EasyDict()\r\n",
        "    Gs_kwargs.output_transform = dict(func=tflib.convert_images_to_uint8, nchw_to_nhwc=True)\r\n",
        "    Gs_kwargs.randomize_noise = False\r\n",
        "    if not isinstance(truncation_psi, list):\r\n",
        "        truncation_psi = [truncation_psi] * len(zs)\r\n",
        "        \r\n",
        "    imgs = []\r\n",
        "    for z_idx, z in log_progress(enumerate(zs), size = len(zs), name = \"Generating images\"):\r\n",
        "        Gs_kwargs.truncation_psi = truncation_psi[z_idx]\r\n",
        "        noise_rnd = np.random.RandomState(1) # fix noise\r\n",
        "        tflib.set_vars({var: noise_rnd.randn(*var.shape.as_list()) for var in noise_vars}) # [height, width]\r\n",
        "        images = Gs.run(z, None, **Gs_kwargs) # [minibatch, height, width, channel]\r\n",
        "        imgs.append(PIL.Image.fromarray(images[0], 'RGB'))\r\n",
        "    return imgs\r\n",
        "\r\n",
        "def generate_zs_from_seeds(seeds):\r\n",
        "    zs = []\r\n",
        "    for seed_idx, seed in enumerate(seeds):\r\n",
        "        rnd = np.random.RandomState(seed)\r\n",
        "        z = rnd.randn(1, *Gs.input_shape[1:]) # [minibatch, component]\r\n",
        "        zs.append(z)\r\n",
        "    return zs\r\n",
        "\r\n",
        "# Generates a list of images, based on a list of seed for latent vectors (Z), and a list (or a single constant) of truncation_psi's.\r\n",
        "def generate_images_from_seeds(seeds, truncation_psi):\r\n",
        "    return generate_images(generate_zs_from_seeds(seeds), truncation_psi)\r\n",
        "\r\n",
        "def saveImgs(imgs, location):\r\n",
        "  for idx, img in log_progress(enumerate(imgs), size = len(imgs), name=\"Saving images\"):\r\n",
        "    file = location+ str(idx) + \".png\"\r\n",
        "    img.save(file)\r\n",
        "\r\n",
        "def imshow(a, format='png', jpeg_fallback=True):\r\n",
        "  a = np.asarray(a, dtype=np.uint8)\r\n",
        "  str_file = BytesIO()\r\n",
        "  PIL.Image.fromarray(a).save(str_file, format)\r\n",
        "  im_data = str_file.getvalue()\r\n",
        "  try:\r\n",
        "    disp = IPython.display.display(IPython.display.Image(im_data))\r\n",
        "  except IOError:\r\n",
        "    if jpeg_fallback and format != 'jpeg':\r\n",
        "      print ('Warning: image was too large to display in format \"{}\"; '\r\n",
        "             'trying jpeg instead.').format(format)\r\n",
        "      return imshow(a, format='jpeg')\r\n",
        "    else:\r\n",
        "      raise\r\n",
        "  return disp\r\n",
        "\r\n",
        "def showarray(a, fmt='png'):\r\n",
        "    a = np.uint8(a)\r\n",
        "    f = StringIO()\r\n",
        "    PIL.Image.fromarray(a).save(f, fmt)\r\n",
        "    IPython.display.display(IPython.display.Image(data=f.getvalue()))\r\n",
        "\r\n",
        "        \r\n",
        "def clamp(x, minimum, maximum):\r\n",
        "    return max(minimum, min(x, maximum))\r\n",
        "    \r\n",
        "def drawLatent(image,latents,x,y,x2,y2, color=(255,0,0,100)):\r\n",
        "  buffer = PIL.Image.new('RGBA', image.size, (0,0,0,0))\r\n",
        "   \r\n",
        "  draw = ImageDraw.Draw(buffer)\r\n",
        "  cy = (y+y2)/2\r\n",
        "  draw.rectangle([x,y,x2,y2],fill=(255,255,255,180), outline=(0,0,0,180))\r\n",
        "  for i in range(len(latents)):\r\n",
        "    mx = x + (x2-x)*(float(i)/len(latents))\r\n",
        "    h = (y2-y)*latents[i]*0.1\r\n",
        "    h = clamp(h,cy-y2,y2-cy)\r\n",
        "    draw.line((mx,cy,mx,cy+h),fill=color)\r\n",
        "  return PIL.Image.alpha_composite(image,buffer)\r\n",
        "             \r\n",
        "  \r\n",
        "def createImageGrid(images, scale=0.25, rows=1):\r\n",
        "   w,h = images[0].size\r\n",
        "   w = int(w*scale)\r\n",
        "   h = int(h*scale)\r\n",
        "   height = rows*h\r\n",
        "   cols = ceil(len(images) / rows)\r\n",
        "   width = cols*w\r\n",
        "   canvas = PIL.Image.new('RGBA', (width,height), 'white')\r\n",
        "   for i,img in enumerate(images):\r\n",
        "     img = img.resize((w,h), PIL.Image.ANTIALIAS)\r\n",
        "     canvas.paste(img, (w*(i % cols), h*(i // cols))) \r\n",
        "   return canvas\r\n",
        "\r\n",
        "def convertZtoW(latent, truncation_psi=0.7, truncation_cutoff=9):\r\n",
        "  dlatent = Gs.components.mapping.run(latent, None) # [seed, layer, component]\r\n",
        "  dlatent_avg = Gs.get_var('dlatent_avg') # [component]\r\n",
        "  for i in range(truncation_cutoff):\r\n",
        "    dlatent[0][i] = (dlatent[0][i]-dlatent_avg)*truncation_psi + dlatent_avg\r\n",
        "    \r\n",
        "  return dlatent\r\n",
        "\r\n",
        "def interpolate(zs, steps):\r\n",
        "   out = []\r\n",
        "   for i in range(len(zs)-1):\r\n",
        "    for index in range(steps):\r\n",
        "     fraction = index/float(steps) \r\n",
        "     out.append(zs[i+1]*fraction + zs[i]*(1-fraction))\r\n",
        "   return out\r\n",
        "\r\n",
        "# Taken from https://github.com/alexanderkuk/log-progress\r\n",
        "def log_progress(sequence, every=1, size=None, name='Items'):\r\n",
        "    from ipywidgets import IntProgress, HTML, VBox\r\n",
        "    from IPython.display import display\r\n",
        "\r\n",
        "    is_iterator = False\r\n",
        "    if size is None:\r\n",
        "        try:\r\n",
        "            size = len(sequence)\r\n",
        "        except TypeError:\r\n",
        "            is_iterator = True\r\n",
        "    if size is not None:\r\n",
        "        if every is None:\r\n",
        "            if size <= 200:\r\n",
        "                every = 1\r\n",
        "            else:\r\n",
        "                every = int(size / 200)     # every 0.5%\r\n",
        "    else:\r\n",
        "        assert every is not None, 'sequence is iterator, set every'\r\n",
        "\r\n",
        "    if is_iterator:\r\n",
        "        progress = IntProgress(min=0, max=1, value=1)\r\n",
        "        progress.bar_style = 'info'\r\n",
        "    else:\r\n",
        "        progress = IntProgress(min=0, max=size, value=0)\r\n",
        "    label = HTML()\r\n",
        "    box = VBox(children=[label, progress])\r\n",
        "    display(box)\r\n",
        "\r\n",
        "    index = 0\r\n",
        "    try:\r\n",
        "        for index, record in enumerate(sequence, 1):\r\n",
        "            if index == 1 or index % every == 0:\r\n",
        "                if is_iterator:\r\n",
        "                    label.value = '{name}: {index} / ?'.format(\r\n",
        "                        name=name,\r\n",
        "                        index=index\r\n",
        "                    )\r\n",
        "                else:\r\n",
        "                    progress.value = index\r\n",
        "                    label.value = u'{name}: {index} / {size}'.format(\r\n",
        "                        name=name,\r\n",
        "                        index=index,\r\n",
        "                        size=size\r\n",
        "                    )\r\n",
        "            yield record\r\n",
        "    except:\r\n",
        "        progress.bar_style = 'danger'\r\n",
        "        raise\r\n",
        "    else:\r\n",
        "        progress.bar_style = 'success'\r\n",
        "        progress.value = index\r\n",
        "        label.value = \"{name}: {index}\".format(\r\n",
        "            name=name,\r\n",
        "            index=str(index or '?')\r\n",
        "        )"
      ],
      "execution_count": null,
      "outputs": []
    },
    {
      "cell_type": "markdown",
      "metadata": {
        "id": "bm7xgrqbRD-V"
      },
      "source": [
        "# Generation"
      ]
    },
    {
      "cell_type": "markdown",
      "metadata": {
        "id": "UmR9bquURTkB"
      },
      "source": [
        "Generate one image from a random seed"
      ]
    },
    {
      "cell_type": "code",
      "metadata": {
        "id": "XxPhlKvVRFGO"
      },
      "source": [
        "seed = np.random.randint((2**32 - 1), size=1)\r\n",
        "print(seed)\r\n",
        "imshow(generate_images_from_seeds(rand, truncation_psi=0.7)[0])"
      ],
      "execution_count": null,
      "outputs": []
    },
    {
      "cell_type": "markdown",
      "metadata": {
        "id": "0D6LQYxvRXPd"
      },
      "source": [
        "Generate 9 images from random seeds"
      ]
    },
    {
      "cell_type": "code",
      "metadata": {
        "id": "nP4mZU0lRcyJ"
      },
      "source": [
        "seeds = np.random.randint((2**32 - 1), size=9)\r\n",
        "print(list(enumerate(list(seeds))), '\\n')\r\n",
        "\r\n",
        "def chunks(lst, n):\r\n",
        "    \"\"\"Yield successive n-sized chunks from lst.\"\"\"\r\n",
        "    for i in range(0, len(lst), n):\r\n",
        "        yield lst[i:i + n]\r\n",
        "\r\n",
        "for _ in chunks(list(seeds), 3):\r\n",
        "  print(_)\r\n",
        "print()\r\n",
        "imshow(createImageGrid(generate_images_from_seeds(seeds, 0.7), 0.7 , 3))"
      ],
      "execution_count": null,
      "outputs": []
    }
  ]
}